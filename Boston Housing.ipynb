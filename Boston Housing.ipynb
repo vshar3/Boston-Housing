{
 "cells": [
  {
   "cell_type": "code",
   "execution_count": 1,
   "metadata": {
    "collapsed": true
   },
   "outputs": [],
   "source": [
    "from sklearn import datasets\n",
    "import pandas as pd\n",
    "from sklearn.preprocessing import StandardScaler\n",
    "from sklearn.cross_validation import train_test_split\n",
    "from sklearn.metrics import mean_squared_error\n",
    "from sklearn.metrics import r2_score\n",
    "from sklearn.linear_model import LinearRegression"
   ]
  },
  {
   "cell_type": "code",
   "execution_count": 3,
   "metadata": {
    "collapsed": false
   },
   "outputs": [
    {
     "name": "stdout",
     "output_type": "stream",
     "text": [
      "Boston House Prices dataset\n",
      "\n",
      "Notes\n",
      "------\n",
      "Data Set Characteristics:  \n",
      "\n",
      "    :Number of Instances: 506 \n",
      "\n",
      "    :Number of Attributes: 13 numeric/categorical predictive\n",
      "    \n",
      "    :Median Value (attribute 14) is usually the target\n",
      "\n",
      "    :Attribute Information (in order):\n",
      "        - CRIM     per capita crime rate by town\n",
      "        - ZN       proportion of residential land zoned for lots over 25,000 sq.ft.\n",
      "        - INDUS    proportion of non-retail business acres per town\n",
      "        - CHAS     Charles River dummy variable (= 1 if tract bounds river; 0 otherwise)\n",
      "        - NOX      nitric oxides concentration (parts per 10 million)\n",
      "        - RM       average number of rooms per dwelling\n",
      "        - AGE      proportion of owner-occupied units built prior to 1940\n",
      "        - DIS      weighted distances to five Boston employment centres\n",
      "        - RAD      index of accessibility to radial highways\n",
      "        - TAX      full-value property-tax rate per $10,000\n",
      "        - PTRATIO  pupil-teacher ratio by town\n",
      "        - B        1000(Bk - 0.63)^2 where Bk is the proportion of blacks by town\n",
      "        - LSTAT    % lower status of the population\n",
      "        - MEDV     Median value of owner-occupied homes in $1000's\n",
      "\n",
      "    :Missing Attribute Values: None\n",
      "\n",
      "    :Creator: Harrison, D. and Rubinfeld, D.L.\n",
      "\n",
      "This is a copy of UCI ML housing dataset.\n",
      "http://archive.ics.uci.edu/ml/datasets/Housing\n",
      "\n",
      "\n",
      "This dataset was taken from the StatLib library which is maintained at Carnegie Mellon University.\n",
      "\n",
      "The Boston house-price data of Harrison, D. and Rubinfeld, D.L. 'Hedonic\n",
      "prices and the demand for clean air', J. Environ. Economics & Management,\n",
      "vol.5, 81-102, 1978.   Used in Belsley, Kuh & Welsch, 'Regression diagnostics\n",
      "...', Wiley, 1980.   N.B. Various transformations are used in the table on\n",
      "pages 244-261 of the latter.\n",
      "\n",
      "The Boston house-price data has been used in many machine learning papers that address regression\n",
      "problems.   \n",
      "     \n",
      "**References**\n",
      "\n",
      "   - Belsley, Kuh & Welsch, 'Regression diagnostics: Identifying Influential Data and Sources of Collinearity', Wiley, 1980. 244-261.\n",
      "   - Quinlan,R. (1993). Combining Instance-Based and Model-Based Learning. In Proceedings on the Tenth International Conference of Machine Learning, 236-243, University of Massachusetts, Amherst. Morgan Kaufmann.\n",
      "   - many more! (see http://archive.ics.uci.edu/ml/datasets/Housing)\n",
      "\n"
     ]
    }
   ],
   "source": [
    "bean = datasets.load_boston()\n",
    "print (bean.DESCR)"
   ]
  },
  {
   "cell_type": "code",
   "execution_count": 4,
   "metadata": {
    "collapsed": true
   },
   "outputs": [],
   "source": [
    "def load_boston():\n",
    "    scaler = StandardScaler()\n",
    "    boston = datasets.load_boston()\n",
    "    X=boston.data\n",
    "    y=boston.target\n",
    "    X = scaler.fit_transform(X)\n",
    "    return train_test_split(X,y)"
   ]
  },
  {
   "cell_type": "code",
   "execution_count": 5,
   "metadata": {
    "collapsed": true
   },
   "outputs": [],
   "source": [
    "X_train, X_test, y_train, y_test = load_boston()"
   ]
  },
  {
   "cell_type": "code",
   "execution_count": 6,
   "metadata": {
    "collapsed": false
   },
   "outputs": [
    {
     "data": {
      "text/plain": [
       "(379, 13)"
      ]
     },
     "execution_count": 6,
     "metadata": {},
     "output_type": "execute_result"
    }
   ],
   "source": [
    "X_train.shape"
   ]
  },
  {
   "cell_type": "code",
   "execution_count": 10,
   "metadata": {
    "collapsed": false
   },
   "outputs": [
    {
     "data": {
      "text/plain": [
       "LinearRegression(copy_X=True, fit_intercept=True, n_jobs=1, normalize=False)"
      ]
     },
     "execution_count": 10,
     "metadata": {},
     "output_type": "execute_result"
    }
   ],
   "source": [
    "clf = LinearRegression()\n",
    "clf.fit(X_train, y_train)"
   ]
  },
  {
   "cell_type": "code",
   "execution_count": 11,
   "metadata": {
    "collapsed": false
   },
   "outputs": [
    {
     "data": {
      "text/plain": [
       "[(24.399999999999999, 23.031176094761186),\n",
       " (17.5, 16.77336892249506),\n",
       " (29.899999999999999, 31.491943193290314),\n",
       " (22.0, 27.628250812947883),\n",
       " (23.100000000000001, 20.932577387323967),\n",
       " (27.899999999999999, 32.180281223111479),\n",
       " (19.399999999999999, 17.251572890363981),\n",
       " (23.800000000000001, 23.775279759600785),\n",
       " (22.800000000000001, 25.267593957185191),\n",
       " (16.800000000000001, 20.251336554349233),\n",
       " (15.199999999999999, 19.293641888798636),\n",
       " (28.699999999999999, 30.909740113561742),\n",
       " (25.199999999999999, 27.574983400162285),\n",
       " (17.399999999999999, 16.111444251813687),\n",
       " (43.799999999999997, 35.126770291351384),\n",
       " (15.0, 18.214710628962344),\n",
       " (22.0, 26.571184654274813),\n",
       " (18.800000000000001, 20.501944904619581),\n",
       " (17.399999999999999, 23.134273862932751),\n",
       " (18.399999999999999, 16.218095202621569),\n",
       " (50.0, 40.668524770774582),\n",
       " (13.800000000000001, 0.29719870351832967),\n",
       " (20.300000000000001, 23.418671144899484),\n",
       " (24.800000000000001, 26.320825955779693),\n",
       " (27.5, 19.878377718778193),\n",
       " (16.300000000000001, 13.015309359799442),\n",
       " (19.5, 18.092774774566482),\n",
       " (23.899999999999999, 24.84220995581197),\n",
       " (16.100000000000001, 18.778574164924652),\n",
       " (24.699999999999999, 25.305860908457074),\n",
       " (19.600000000000001, 23.38854314944065),\n",
       " (11.699999999999999, 14.570182770748881),\n",
       " (20.600000000000001, 21.830922779075745),\n",
       " (8.3000000000000007, 14.085910893711056),\n",
       " (12.1, 18.207256435708288),\n",
       " (17.199999999999999, 13.157291347623035),\n",
       " (11.800000000000001, 8.3381401760384506),\n",
       " (10.4, 19.162611123616454),\n",
       " (24.300000000000001, 24.495607965215147),\n",
       " (46.0, 40.268060428251999),\n",
       " (25.0, 29.369867251614508),\n",
       " (16.5, 10.648883906045338),\n",
       " (10.199999999999999, 6.1570689120136812),\n",
       " (26.600000000000001, 28.519057453642162),\n",
       " (21.600000000000001, 25.992575791571561),\n",
       " (20.800000000000001, 23.738701619219817),\n",
       " (26.399999999999999, 29.074416538945041),\n",
       " (15.300000000000001, 20.385073893997106),\n",
       " (27.100000000000001, 28.332763957138031),\n",
       " (22.0, 27.31634720906672),\n",
       " (20.5, 24.444992098264557),\n",
       " (22.5, 29.599389730144782),\n",
       " (19.699999999999999, 13.399168852417667),\n",
       " (30.300000000000001, 32.778367740777583),\n",
       " (17.100000000000001, 20.171382237988539),\n",
       " (15.199999999999999, 12.280227341731935),\n",
       " (32.200000000000003, 31.790285579873164),\n",
       " (14.800000000000001, 14.336031594072036),\n",
       " (20.199999999999999, 16.126491457266074),\n",
       " (35.200000000000003, 35.158421015214429),\n",
       " (16.399999999999999, 18.887431593899599),\n",
       " (13.1, 16.354770053529769),\n",
       " (13.800000000000001, 20.562342161942745),\n",
       " (18.899999999999999, 23.900992450006015),\n",
       " (11.699999999999999, 16.363370405477266),\n",
       " (24.0, 25.28351759477723),\n",
       " (37.200000000000003, 33.007671239820667),\n",
       " (14.9, 17.306040389234742),\n",
       " (18.800000000000001, 21.293637796142274),\n",
       " (24.399999999999999, 23.972998551594181),\n",
       " (24.100000000000001, 29.550771562748473),\n",
       " (18.5, 13.241689978980796),\n",
       " (20.5, 21.245022261582207),\n",
       " (29.800000000000001, 25.813170338228009),\n",
       " (48.799999999999997, 40.941936838857359),\n",
       " (23.899999999999999, 27.283941690592627),\n",
       " (50.0, 43.463256728603554),\n",
       " (24.5, 21.584929241317571),\n",
       " (15.6, 15.487164173825049),\n",
       " (14.300000000000001, 14.290083954923151),\n",
       " (20.300000000000001, 22.970259301105234),\n",
       " (23.899999999999999, 26.652829522110373),\n",
       " (22.0, 27.422288764992889),\n",
       " (13.300000000000001, 20.048011338548797),\n",
       " (11.300000000000001, 13.269711836920779),\n",
       " (16.5, 22.072237254147218),\n",
       " (22.899999999999999, 25.341056063381224),\n",
       " (22.199999999999999, 26.026116426878886),\n",
       " (8.6999999999999993, 8.320802531061549),\n",
       " (24.199999999999999, 25.741876257537179),\n",
       " (10.9, 18.726382167526108),\n",
       " (16.0, 18.505277164343248),\n",
       " (24.800000000000001, 31.16781732409806),\n",
       " (26.600000000000001, 22.373961851758363),\n",
       " (19.100000000000001, 25.178860441070476),\n",
       " (23.100000000000001, 25.719758209224132),\n",
       " (8.0999999999999996, 3.1990491994185675),\n",
       " (18.5, 19.633886778338109),\n",
       " (22.899999999999999, 20.798151988128222),\n",
       " (5.0, 11.547297447196105),\n",
       " (36.100000000000001, 33.073695300949566),\n",
       " (28.399999999999999, 28.647694433391955),\n",
       " (13.1, 13.913450365254432),\n",
       " (25.0, 22.761520484688454),\n",
       " (23.199999999999999, 17.173481903513789),\n",
       " (30.800000000000001, 31.657470176383214),\n",
       " (19.100000000000001, 16.647873307645014),\n",
       " (24.600000000000001, 25.127187335535695),\n",
       " (12.699999999999999, 10.790273291664173),\n",
       " (7.0, 8.1595881278525226),\n",
       " (20.600000000000001, 27.672653146666107),\n",
       " (23.5, 30.83595935455061),\n",
       " (19.5, 16.57326073749935),\n",
       " (22.100000000000001, 27.400933277386649),\n",
       " (21.5, 21.329441636558077),\n",
       " (50.0, 44.477448417346324),\n",
       " (23.100000000000001, 11.810117898186261),\n",
       " (21.0, 21.440556628287656),\n",
       " (23.899999999999999, 27.850458065539421),\n",
       " (14.199999999999999, 18.293236231811107),\n",
       " (8.4000000000000004, 14.04125982081252),\n",
       " (18.899999999999999, 15.012348418057028),\n",
       " (31.199999999999999, 28.836677006439988),\n",
       " (28.600000000000001, 29.444918736778654),\n",
       " (21.199999999999999, 23.310516788350785),\n",
       " (20.0, 18.851566421323945),\n",
       " (21.699999999999999, 22.150945437856063)]"
      ]
     },
     "execution_count": 11,
     "metadata": {},
     "output_type": "execute_result"
    }
   ],
   "source": [
    "list(zip (y_test, clf.predict(X_test)))"
   ]
  },
  {
   "cell_type": "code",
   "execution_count": 12,
   "metadata": {
    "collapsed": false
   },
   "outputs": [
    {
     "data": {
      "text/plain": [
       "0.74324892514593721"
      ]
     },
     "execution_count": 12,
     "metadata": {},
     "output_type": "execute_result"
    }
   ],
   "source": [
    "#R2 score calculation\n",
    "r2_score(y_test, linReg.predict(X_test))"
   ]
  },
  {
   "cell_type": "code",
   "execution_count": 15,
   "metadata": {
    "collapsed": false
   },
   "outputs": [
    {
     "name": "stdout",
     "output_type": "stream",
     "text": [
      "MSE:  18.4652393073\n"
     ]
    }
   ],
   "source": [
    "from math import sqrt\n",
    "mse = mean_squared_error(y_test, linReg.predict(X_test))\n",
    "print (\"MSE: \", mse)"
   ]
  },
  {
   "cell_type": "code",
   "execution_count": 17,
   "metadata": {
    "collapsed": false
   },
   "outputs": [
    {
     "name": "stdout",
     "output_type": "stream",
     "text": [
      "RMSE:  4.297119885148736\n"
     ]
    }
   ],
   "source": [
    "rmse = sqrt(mse)\n",
    "print (\"RMSE: \", rmse)"
   ]
  },
  {
   "cell_type": "code",
   "execution_count": 19,
   "metadata": {
    "collapsed": false
   },
   "outputs": [
    {
     "data": {
      "text/plain": [
       "Ridge(alpha=1.0, copy_X=True, fit_intercept=True, max_iter=None,\n",
       "   normalize=False, random_state=None, solver='auto', tol=0.001)"
      ]
     },
     "execution_count": 19,
     "metadata": {},
     "output_type": "execute_result"
    }
   ],
   "source": [
    "#Ridge Model\n",
    "from sklearn.linear_model import Ridge\n",
    "ridge = Ridge(alpha=1.0)\n",
    "ridge.fit(X_train, y_train)"
   ]
  },
  {
   "cell_type": "code",
   "execution_count": null,
   "metadata": {
    "collapsed": true
   },
   "outputs": [],
   "source": [
    "print (\"R2: \", r2_score(y_test, ridge.predict(X_test)))\n",
    "mse = mean_squared_error(y_test, ridge.predict(X_test))\n",
    "print (\"MSE: \", mse)\n",
    "print (\"RMSE: \", sqrt(mse))"
   ]
  },
  {
   "cell_type": "code",
   "execution_count": 23,
   "metadata": {
    "collapsed": false
   },
   "outputs": [
    {
     "name": "stdout",
     "output_type": "stream",
     "text": [
      "R2:  0.74579864925\n",
      "MSE:  18.2818661091\n",
      "RMSE:  4.275729891966965\n"
     ]
    }
   ],
   "source": [
    "#Optimization of Ridge\n",
    "optRidge = Ridge(alpha=10)\n",
    "optRidge.fit(X_train, y_train)\n",
    "print (\"R2: \", r2_score(y_test, optRidge.predict(X_test)))\n",
    "mse = mean_squared_error(y_test, optRidge.predict(X_test))\n",
    "print (\"MSE: \", mse)\n",
    "print (\"RMSE: \", sqrt(mse))\n"
   ]
  },
  {
   "cell_type": "code",
   "execution_count": 24,
   "metadata": {
    "collapsed": false
   },
   "outputs": [
    {
     "name": "stdout",
     "output_type": "stream",
     "text": [
      "R2:  0.745561262771\n",
      "MSE:  18.2989386691\n",
      "RMSE:  4.277725875876651\n"
     ]
    }
   ],
   "source": [
    "optRidge = Ridge(alpha=7.5)\n",
    "optRidge.fit(X_train, y_train)\n",
    "print (\"R2: \", r2_score(y_test, optRidge.predict(X_test)))\n",
    "mse = mean_squared_error(y_test, optRidge.predict(X_test))\n",
    "print (\"MSE: \", mse)\n",
    "print (\"RMSE: \", sqrt(mse))"
   ]
  },
  {
   "cell_type": "code",
   "execution_count": null,
   "metadata": {
    "collapsed": true
   },
   "outputs": [],
   "source": []
  }
 ],
 "metadata": {
  "anaconda-cloud": {},
  "kernelspec": {
   "display_name": "Python [conda root]",
   "language": "python",
   "name": "conda-root-py"
  },
  "language_info": {
   "codemirror_mode": {
    "name": "ipython",
    "version": 3
   },
   "file_extension": ".py",
   "mimetype": "text/x-python",
   "name": "python",
   "nbconvert_exporter": "python",
   "pygments_lexer": "ipython3",
   "version": "3.5.2"
  }
 },
 "nbformat": 4,
 "nbformat_minor": 1
}
